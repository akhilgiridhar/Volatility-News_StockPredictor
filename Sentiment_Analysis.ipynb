{
  "nbformat": 4,
  "nbformat_minor": 0,
  "metadata": {
    "colab": {
      "provenance": []
    },
    "kernelspec": {
      "name": "python3",
      "display_name": "Python 3"
    },
    "language_info": {
      "name": "python"
    }
  },
  "cells": [
    {
      "cell_type": "code",
      "execution_count": null,
      "metadata": {
        "colab": {
          "base_uri": "https://localhost:8080/"
        },
        "id": "rqRrZ1--11Ma",
        "outputId": "52e2c588-9234-404c-9b4d-e4ed2d80a458"
      },
      "outputs": [
        {
          "output_type": "stream",
          "name": "stdout",
          "text": [
            "Collecting gnews\n",
            "  Downloading gnews-0.3.6-py3-none-any.whl (16 kB)\n",
            "Collecting feedparser~=6.0.2 (from gnews)\n",
            "  Downloading feedparser-6.0.10-py3-none-any.whl (81 kB)\n",
            "\u001b[2K     \u001b[90m━━━━━━━━━━━━━━━━━━━━━━━━━━━━━━━━━━━━━━━━\u001b[0m \u001b[32m81.1/81.1 kB\u001b[0m \u001b[31m2.9 MB/s\u001b[0m eta \u001b[36m0:00:00\u001b[0m\n",
            "\u001b[?25hCollecting bs4~=0.0.1 (from gnews)\n",
            "  Downloading bs4-0.0.1.tar.gz (1.1 kB)\n",
            "  Preparing metadata (setup.py) ... \u001b[?25l\u001b[?25hdone\n",
            "Collecting beautifulsoup4~=4.9.3 (from gnews)\n",
            "  Downloading beautifulsoup4-4.9.3-py3-none-any.whl (115 kB)\n",
            "\u001b[2K     \u001b[90m━━━━━━━━━━━━━━━━━━━━━━━━━━━━━━━━━━━━━━━━\u001b[0m \u001b[32m115.8/115.8 kB\u001b[0m \u001b[31m4.7 MB/s\u001b[0m eta \u001b[36m0:00:00\u001b[0m\n",
            "\u001b[?25hCollecting pymongo~=3.12.0 (from gnews)\n",
            "  Downloading pymongo-3.12.3-cp310-cp310-manylinux_2_17_x86_64.manylinux2014_x86_64.whl (517 kB)\n",
            "\u001b[2K     \u001b[90m━━━━━━━━━━━━━━━━━━━━━━━━━━━━━━━━━━━━━━━━\u001b[0m \u001b[32m517.1/517.1 kB\u001b[0m \u001b[31m6.2 MB/s\u001b[0m eta \u001b[36m0:00:00\u001b[0m\n",
            "\u001b[?25hCollecting dnspython~=1.16.0 (from gnews)\n",
            "  Downloading dnspython-1.16.0-py2.py3-none-any.whl (188 kB)\n",
            "\u001b[2K     \u001b[90m━━━━━━━━━━━━━━━━━━━━━━━━━━━━━━━━━━━━━━━━\u001b[0m \u001b[32m188.4/188.4 kB\u001b[0m \u001b[31m6.7 MB/s\u001b[0m eta \u001b[36m0:00:00\u001b[0m\n",
            "\u001b[?25hCollecting python-dotenv~=0.19.0 (from gnews)\n",
            "  Downloading python_dotenv-0.19.2-py2.py3-none-any.whl (17 kB)\n",
            "Collecting requests==2.26.0 (from gnews)\n",
            "  Downloading requests-2.26.0-py2.py3-none-any.whl (62 kB)\n",
            "\u001b[2K     \u001b[90m━━━━━━━━━━━━━━━━━━━━━━━━━━━━━━━━━━━━━━━━\u001b[0m \u001b[32m62.3/62.3 kB\u001b[0m \u001b[31m7.7 MB/s\u001b[0m eta \u001b[36m0:00:00\u001b[0m\n",
            "\u001b[?25hCollecting urllib3<1.27,>=1.21.1 (from requests==2.26.0->gnews)\n",
            "  Downloading urllib3-1.26.18-py2.py3-none-any.whl (143 kB)\n",
            "\u001b[2K     \u001b[90m━━━━━━━━━━━━━━━━━━━━━━━━━━━━━━━━━━━━━━━━\u001b[0m \u001b[32m143.8/143.8 kB\u001b[0m \u001b[31m10.9 MB/s\u001b[0m eta \u001b[36m0:00:00\u001b[0m\n",
            "\u001b[?25hRequirement already satisfied: certifi>=2017.4.17 in /usr/local/lib/python3.10/dist-packages (from requests==2.26.0->gnews) (2023.11.17)\n",
            "Collecting charset-normalizer~=2.0.0 (from requests==2.26.0->gnews)\n",
            "  Downloading charset_normalizer-2.0.12-py3-none-any.whl (39 kB)\n",
            "Requirement already satisfied: idna<4,>=2.5 in /usr/local/lib/python3.10/dist-packages (from requests==2.26.0->gnews) (3.6)\n",
            "Requirement already satisfied: soupsieve>1.2 in /usr/local/lib/python3.10/dist-packages (from beautifulsoup4~=4.9.3->gnews) (2.5)\n",
            "Collecting sgmllib3k (from feedparser~=6.0.2->gnews)\n",
            "  Downloading sgmllib3k-1.0.0.tar.gz (5.8 kB)\n",
            "  Preparing metadata (setup.py) ... \u001b[?25l\u001b[?25hdone\n",
            "Building wheels for collected packages: bs4, sgmllib3k\n",
            "  Building wheel for bs4 (setup.py) ... \u001b[?25l\u001b[?25hdone\n",
            "  Created wheel for bs4: filename=bs4-0.0.1-py3-none-any.whl size=1256 sha256=8b4c59963010affb691460b157091fa083b12582ec10dce757b5f1e6f0e698e5\n",
            "  Stored in directory: /root/.cache/pip/wheels/25/42/45/b773edc52acb16cd2db4cf1a0b47117e2f69bb4eb300ed0e70\n",
            "  Building wheel for sgmllib3k (setup.py) ... \u001b[?25l\u001b[?25hdone\n",
            "  Created wheel for sgmllib3k: filename=sgmllib3k-1.0.0-py3-none-any.whl size=6048 sha256=6201969771286a3d0d3e3831a1167f108d089848152bed3f7a9377a14c8fb154\n",
            "  Stored in directory: /root/.cache/pip/wheels/f0/69/93/a47e9d621be168e9e33c7ce60524393c0b92ae83cf6c6e89c5\n",
            "Successfully built bs4 sgmllib3k\n",
            "Installing collected packages: sgmllib3k, urllib3, python-dotenv, pymongo, feedparser, dnspython, charset-normalizer, beautifulsoup4, requests, bs4, gnews\n",
            "  Attempting uninstall: urllib3\n",
            "    Found existing installation: urllib3 2.0.7\n",
            "    Uninstalling urllib3-2.0.7:\n",
            "      Successfully uninstalled urllib3-2.0.7\n",
            "  Attempting uninstall: charset-normalizer\n",
            "    Found existing installation: charset-normalizer 3.3.2\n",
            "    Uninstalling charset-normalizer-3.3.2:\n",
            "      Successfully uninstalled charset-normalizer-3.3.2\n",
            "  Attempting uninstall: beautifulsoup4\n",
            "    Found existing installation: beautifulsoup4 4.11.2\n",
            "    Uninstalling beautifulsoup4-4.11.2:\n",
            "      Successfully uninstalled beautifulsoup4-4.11.2\n",
            "  Attempting uninstall: requests\n",
            "    Found existing installation: requests 2.31.0\n",
            "    Uninstalling requests-2.31.0:\n",
            "      Successfully uninstalled requests-2.31.0\n",
            "\u001b[31mERROR: pip's dependency resolver does not currently take into account all the packages that are installed. This behaviour is the source of the following dependency conflicts.\n",
            "bigframes 0.15.0 requires requests>=2.27.1, but you have requests 2.26.0 which is incompatible.\n",
            "google-colab 1.0.0 requires requests==2.31.0, but you have requests 2.26.0 which is incompatible.\n",
            "tweepy 4.14.0 requires requests<3,>=2.27.0, but you have requests 2.26.0 which is incompatible.\n",
            "yfinance 0.2.32 requires beautifulsoup4>=4.11.1, but you have beautifulsoup4 4.9.3 which is incompatible.\n",
            "yfinance 0.2.32 requires requests>=2.31, but you have requests 2.26.0 which is incompatible.\u001b[0m\u001b[31m\n",
            "\u001b[0mSuccessfully installed beautifulsoup4-4.9.3 bs4-0.0.1 charset-normalizer-2.0.12 dnspython-1.16.0 feedparser-6.0.10 gnews-0.3.6 pymongo-3.12.3 python-dotenv-0.19.2 requests-2.26.0 sgmllib3k-1.0.0 urllib3-1.26.18\n"
          ]
        },
        {
          "output_type": "stream",
          "name": "stderr",
          "text": [
            "/usr/local/lib/python3.10/dist-packages/requests/__init__.py:102: RequestsDependencyWarning: urllib3 (1.26.18) or chardet (5.2.0)/charset_normalizer (2.0.12) doesn't match a supported version!\n",
            "  warnings.warn(\"urllib3 ({}) or chardet ({})/charset_normalizer ({}) doesn't match a supported \"\n"
          ]
        }
      ],
      "source": [
        "!pip install gnews\n",
        "from gnews import GNews"
      ]
    },
    {
      "cell_type": "markdown",
      "source": [
        "Functions to Get News Data"
      ],
      "metadata": {
        "id": "mqMFGHmk_xTw"
      }
    },
    {
      "cell_type": "code",
      "source": [
        "def get_news(month, day):\n",
        "  google_news = GNews()\n",
        "  google_news.max_results = 10\n",
        "  google_news.period = '12h'  # News from last 7 days\n",
        "  google_news.country = 'United States'\n",
        "  google_news.language = 'english'\n",
        "  google_news.start_date = (2022, month, day)\n",
        "  if day != 31:\n",
        "    google_news.end_date = (2022, month, day+1)\n",
        "  else:\n",
        "    google_news.end_date = (2023, 1, 1)\n",
        "  json_resp = google_news.get_news('Tesla')\n",
        "  return json_resp\n",
        "\n",
        "\n",
        "def parse_news(response):\n",
        "  info = []\n",
        "  months = {\"Jan\": \"01\", \"Feb\": \"02\", \"Mar\": \"03\", \"Apr\": \"04\", \"May\": \"05\", \"Jun\": \"06\",\n",
        "          \"Jul\": \"07\", \"Aug\": \"08\", \"Sep\": \"09\", \"Oct\": \"10\", \"Nov\": \"11\", \"Dec\": \"12\"}\n",
        "\n",
        "  for i in range(len(response)):\n",
        "    string_date = response[i]['published date']\n",
        "    separated_string_date = string_date.split(\" \")\n",
        "    month, day = months[separated_string_date[2]], separated_string_date[1]\n",
        "    article = {\"Title\" : response[i]['title'], \"Date\" : f\"{month}/{day}/2022\"}\n",
        "    info.append(article)\n",
        "  return info\n",
        "\n"
      ],
      "metadata": {
        "id": "wnqVVhmJ13BN"
      },
      "execution_count": null,
      "outputs": []
    },
    {
      "cell_type": "code",
      "source": [
        "news_2022 = []"
      ],
      "metadata": {
        "id": "yV8P-xIS17k6"
      },
      "execution_count": null,
      "outputs": []
    },
    {
      "cell_type": "code",
      "source": [
        "days_in_month = {1: 31, 2: 28, 3: 31, 4: 30, 5: 31, 6: 30,\n",
        "                 7: 31, 8: 31, 9: 30, 10: 31, 11: 30, 12: 31}\n",
        "\n",
        "for i in range(12, 13):\n",
        "  for j in range(1, days_in_month[i]):\n",
        "    response = get_news(i, j)\n",
        "    news = parse_news(response)\n",
        "    news_2022.append(news)\n"
      ],
      "metadata": {
        "colab": {
          "base_uri": "https://localhost:8080/"
        },
        "id": "C3feSlcA1-VR",
        "outputId": "69e35b2b-f73e-48b7-f339-6eaa6fe5749f"
      },
      "execution_count": null,
      "outputs": [
        {
          "output_type": "stream",
          "name": "stderr",
          "text": [
            "<ipython-input-7-5380863bf921>:12: UserWarning: \n",
            "Period (12h) will be ignored in favour of the start and end dates\n",
            "  json_resp = google_news.get_news('Tesla')\n"
          ]
        }
      ]
    },
    {
      "cell_type": "code",
      "source": [
        "# news_2022"
      ],
      "metadata": {
        "id": "xxnb1jZ32Nw_"
      },
      "execution_count": null,
      "outputs": []
    },
    {
      "cell_type": "markdown",
      "source": [
        "Convert News to Dataframe and Sort"
      ],
      "metadata": {
        "id": "yx1o_jPY_n_N"
      }
    },
    {
      "cell_type": "code",
      "source": [
        "import pandas as pd\n",
        "\n",
        "news_2022_flat = [article for month_news in news_2022 for article in month_news]\n",
        "df_2022 = pd.DataFrame(news_2022_flat)\n",
        "df_2022['Date'] = pd.to_datetime(df_2022['Date'], format='%m/%d/%Y')\n",
        "df_2022_sorted = df_2022.sort_values(by='Date')\n",
        "print(df_2022_sorted)\n"
      ],
      "metadata": {
        "colab": {
          "base_uri": "https://localhost:8080/"
        },
        "id": "WvXcGq6g8Gmt",
        "outputId": "d09d2e66-231f-46fd-babc-12fa3d705429"
      },
      "execution_count": null,
      "outputs": [
        {
          "output_type": "stream",
          "name": "stdout",
          "text": [
            "                                                  Title       Date\n",
            "1     First Tesla electric car supercharger station ... 2022-01-01\n",
            "2     Lucid and Rivian are future of sexy electric c... 2022-01-01\n",
            "3     Tesla Model 3, Y prices hiked in China for rea... 2022-01-01\n",
            "4     How to Fix Tesla Model 3/Y Heater Not Working ... 2022-01-01\n",
            "5     Tesla Model Q Looks Like a More Practical Mode... 2022-01-01\n",
            "...                                                 ...        ...\n",
            "3360  Why one green-focused investor has 'no interes... 2022-12-30\n",
            "3361  Opinion | Elon Musk’s Antics Hurt Tesla’s Demo... 2022-12-30\n",
            "3362  Tesla Offering $7500 Off Model S and Model X U... 2022-12-30\n",
            "3363  Do You Really Need a Single-Stock Tesla ETF? -... 2022-12-30\n",
            "3365  Tesla supplier Panasonic seeks to balance US a... 2022-12-30\n",
            "\n",
            "[3366 rows x 2 columns]\n"
          ]
        }
      ]
    },
    {
      "cell_type": "code",
      "source": [
        "df_2022_sorted.to_csv(\"Headlines_2022.csv\")"
      ],
      "metadata": {
        "id": "mcdnVbUj8TgZ"
      },
      "execution_count": null,
      "outputs": []
    },
    {
      "cell_type": "markdown",
      "source": [
        "NLP Sentiment Analysis"
      ],
      "metadata": {
        "id": "xtUYuOnoAI-0"
      }
    },
    {
      "cell_type": "code",
      "source": [
        "!pip install transformers"
      ],
      "metadata": {
        "colab": {
          "base_uri": "https://localhost:8080/"
        },
        "id": "T68PT8yOE7XD",
        "outputId": "c9f3deb5-61c6-431c-c258-6e0e4837074e"
      },
      "execution_count": null,
      "outputs": [
        {
          "output_type": "stream",
          "name": "stdout",
          "text": [
            "Requirement already satisfied: transformers in /usr/local/lib/python3.10/dist-packages (4.35.2)\n",
            "Requirement already satisfied: filelock in /usr/local/lib/python3.10/dist-packages (from transformers) (3.13.1)\n",
            "Requirement already satisfied: huggingface-hub<1.0,>=0.16.4 in /usr/local/lib/python3.10/dist-packages (from transformers) (0.19.4)\n",
            "Requirement already satisfied: numpy>=1.17 in /usr/local/lib/python3.10/dist-packages (from transformers) (1.23.5)\n",
            "Requirement already satisfied: packaging>=20.0 in /usr/local/lib/python3.10/dist-packages (from transformers) (23.2)\n",
            "Requirement already satisfied: pyyaml>=5.1 in /usr/local/lib/python3.10/dist-packages (from transformers) (6.0.1)\n",
            "Requirement already satisfied: regex!=2019.12.17 in /usr/local/lib/python3.10/dist-packages (from transformers) (2023.6.3)\n",
            "Requirement already satisfied: requests in /usr/local/lib/python3.10/dist-packages (from transformers) (2.26.0)\n",
            "Requirement already satisfied: tokenizers<0.19,>=0.14 in /usr/local/lib/python3.10/dist-packages (from transformers) (0.15.0)\n",
            "Requirement already satisfied: safetensors>=0.3.1 in /usr/local/lib/python3.10/dist-packages (from transformers) (0.4.1)\n",
            "Requirement already satisfied: tqdm>=4.27 in /usr/local/lib/python3.10/dist-packages (from transformers) (4.66.1)\n",
            "Requirement already satisfied: fsspec>=2023.5.0 in /usr/local/lib/python3.10/dist-packages (from huggingface-hub<1.0,>=0.16.4->transformers) (2023.6.0)\n",
            "Requirement already satisfied: typing-extensions>=3.7.4.3 in /usr/local/lib/python3.10/dist-packages (from huggingface-hub<1.0,>=0.16.4->transformers) (4.5.0)\n",
            "Requirement already satisfied: urllib3<1.27,>=1.21.1 in /usr/local/lib/python3.10/dist-packages (from requests->transformers) (1.26.18)\n",
            "Requirement already satisfied: certifi>=2017.4.17 in /usr/local/lib/python3.10/dist-packages (from requests->transformers) (2023.11.17)\n",
            "Requirement already satisfied: charset-normalizer~=2.0.0 in /usr/local/lib/python3.10/dist-packages (from requests->transformers) (2.0.12)\n",
            "Requirement already satisfied: idna<4,>=2.5 in /usr/local/lib/python3.10/dist-packages (from requests->transformers) (3.6)\n"
          ]
        }
      ]
    },
    {
      "cell_type": "code",
      "source": [
        "import pandas as pd\n",
        "from nltk.sentiment import SentimentIntensityAnalyzer\n",
        "from textblob import TextBlob\n",
        "from transformers import pipeline\n",
        "import nltk"
      ],
      "metadata": {
        "id": "2ylr77N6ALZF"
      },
      "execution_count": null,
      "outputs": []
    },
    {
      "cell_type": "code",
      "source": [
        "nltk.download('vader_lexicon')\n",
        "vader_analyzer = SentimentIntensityAnalyzer()\n",
        "\n",
        "def get_sentiment_score_textblob(headline):\n",
        "    analysis = TextBlob(headline)\n",
        "    return analysis.sentiment.polarity\n",
        "\n",
        "df_vader = df_2022_sorted.copy()\n",
        "df_textblob = df_2022_sorted.copy()\n",
        "\n",
        "df_vader['Sentiment_VADER'] = df_vader['Title'].apply(lambda x: vader_analyzer.polarity_scores(x)['compound'])\n",
        "df_textblob['Sentiment_TextBlob'] = df_textblob['Title'].apply(get_sentiment_score_textblob)\n",
        "\n",
        "df_sentiment_2022 = pd.DataFrame({\n",
        "    'Title': df_2022_sorted['Title'],\n",
        "    'Date': df_2022_sorted['Date'],\n",
        "    'Sentiment_VADER': df_vader['Sentiment_VADER'],\n",
        "    'Sentiment_TextBlob': df_textblob['Sentiment_TextBlob'],\n",
        "})\n",
        "\n",
        "df_sentiment_2022['Sentiment_Average'] = df_sentiment_2022[['Sentiment_VADER', 'Sentiment_TextBlob']].mean(axis=1)\n",
        "\n",
        "print(df_sentiment_2022)\n"
      ],
      "metadata": {
        "colab": {
          "base_uri": "https://localhost:8080/"
        },
        "id": "kI_e9EDjAZog",
        "outputId": "c50ef0b8-c30e-4f9b-a501-0e6eb9edb5da"
      },
      "execution_count": null,
      "outputs": [
        {
          "output_type": "stream",
          "name": "stderr",
          "text": [
            "[nltk_data] Downloading package vader_lexicon to /root/nltk_data...\n",
            "[nltk_data]   Package vader_lexicon is already up-to-date!\n"
          ]
        },
        {
          "output_type": "stream",
          "name": "stdout",
          "text": [
            "                                                  Title       Date  \\\n",
            "1     First Tesla electric car supercharger station ... 2022-01-01   \n",
            "2     Lucid and Rivian are future of sexy electric c... 2022-01-01   \n",
            "3     Tesla Model 3, Y prices hiked in China for rea... 2022-01-01   \n",
            "4     How to Fix Tesla Model 3/Y Heater Not Working ... 2022-01-01   \n",
            "5     Tesla Model Q Looks Like a More Practical Mode... 2022-01-01   \n",
            "...                                                 ...        ...   \n",
            "3360  Why one green-focused investor has 'no interes... 2022-12-30   \n",
            "3361  Opinion | Elon Musk’s Antics Hurt Tesla’s Demo... 2022-12-30   \n",
            "3362  Tesla Offering $7500 Off Model S and Model X U... 2022-12-30   \n",
            "3363  Do You Really Need a Single-Stock Tesla ETF? -... 2022-12-30   \n",
            "3365  Tesla supplier Panasonic seeks to balance US a... 2022-12-30   \n",
            "\n",
            "      Sentiment_VADER  Sentiment_TextBlob  Sentiment_Average  \n",
            "1              0.0000            0.250000           0.125000  \n",
            "2              0.5267            0.159091           0.342895  \n",
            "3              0.0000            0.000000           0.000000  \n",
            "4              0.0000           -0.600000          -0.300000  \n",
            "5              0.3612            0.500000           0.430600  \n",
            "...               ...                 ...                ...  \n",
            "3360           0.2023            0.000000           0.101150  \n",
            "3361          -0.5267            0.136364          -0.195168  \n",
            "3362           0.0000            0.000000           0.000000  \n",
            "3363          -0.4404            0.400000          -0.020200  \n",
            "3365           0.0000            0.000000           0.000000  \n",
            "\n",
            "[3366 rows x 5 columns]\n"
          ]
        }
      ]
    },
    {
      "cell_type": "code",
      "source": [
        "df_sentiment_2022.head(5000)"
      ],
      "metadata": {
        "colab": {
          "base_uri": "https://localhost:8080/",
          "height": 175
        },
        "id": "gnfB73CBBiTa",
        "outputId": "3bda0826-f040-4e34-ad9c-a54c13dbe1f4"
      },
      "execution_count": null,
      "outputs": [
        {
          "output_type": "error",
          "ename": "NameError",
          "evalue": "ignored",
          "traceback": [
            "\u001b[0;31m---------------------------------------------------------------------------\u001b[0m",
            "\u001b[0;31mNameError\u001b[0m                                 Traceback (most recent call last)",
            "\u001b[0;32m<ipython-input-1-5520e3375bf8>\u001b[0m in \u001b[0;36m<cell line: 1>\u001b[0;34m()\u001b[0m\n\u001b[0;32m----> 1\u001b[0;31m \u001b[0mdf_sentiment_2022\u001b[0m\u001b[0;34m.\u001b[0m\u001b[0mhead\u001b[0m\u001b[0;34m(\u001b[0m\u001b[0;36m5000\u001b[0m\u001b[0;34m)\u001b[0m\u001b[0;34m\u001b[0m\u001b[0;34m\u001b[0m\u001b[0m\n\u001b[0m",
            "\u001b[0;31mNameError\u001b[0m: name 'df_sentiment_2022' is not defined"
          ]
        }
      ]
    },
    {
      "cell_type": "code",
      "source": [
        "df_sentiment_2022.to_csv(\"Headlines2022_Sentiment_Analysis.csv\")"
      ],
      "metadata": {
        "id": "BK6Oy8P9ES5p"
      },
      "execution_count": null,
      "outputs": []
    },
    {
      "cell_type": "code",
      "source": [],
      "metadata": {
        "id": "wCD1bDTbOb0c"
      },
      "execution_count": null,
      "outputs": []
    }
  ]
}